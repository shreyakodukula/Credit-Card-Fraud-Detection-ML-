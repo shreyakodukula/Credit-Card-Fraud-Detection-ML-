{
  "nbformat": 4,
  "nbformat_minor": 0,
  "metadata": {
    "colab": {
      "provenance": []
    },
    "kernelspec": {
      "name": "python3",
      "display_name": "Python 3"
    },
    "language_info": {
      "name": "python"
    }
  },
  "cells": [
    {
      "cell_type": "markdown",
      "source": [
        "Project Report: Credit Card Fraud Detection using Machine Learning\n",
        "1. Introduction\n",
        "Since online transactions have increased dramatically in today's digital age, banking institutions are quite concerned about credit card fraud. In addition to resulting in monetary losses, fraudulent transactions damage consumer confidence. The goal of this project is to develop a machine learning-based intelligent fraud detection system that can successfully handle class imbalance and reliably identify transactions as either fraudulent or legitimate.\n",
        "\n",
        "2. Problem Statement\n",
        "To identify fraudulent transactions in real time, financial institutions require an automated system. The main difficulties are:\n",
        "\n",
        "Unbalanced Data: Compared to actual transactions, fraud incidents are incredibly few.\n",
        "Dynamic Fraud Patterns: Con artists are always modifying their strategies.\n",
        "Real-Time Detection: To reduce losses, the system needs to be quick and precise.\n",
        "The goal is to create a machine learning model that can efficiently identify fraudulent transactions while minimising false positives, or normal transactions that are mistakenly reported as fraudulent.\n",
        "\n",
        "3. Dataset Overview\n",
        "We made use of an anonymised dataset of actual credit card transactions that included:\n",
        "\n",
        "Features: Information on transactions, including credit limit, frequency, type of purchase, balance, and payments.\n",
        "The target variable is 0 for a legitimate transaction and 1 for a fraudulent one.\n",
        "Challenges:\n",
        "Data that is extremely unbalanced (only 0.1% of fraud incidents)\n",
        "Some columns have missing values.\n",
        "\n",
        "4.1 Data Preprocessing\n",
        "✔ Handling Missing Values → Replaced with mean/median values.\n",
        "✔ Feature Scaling → Normalized numerical features using StandardScaler.\n",
        "✔ Dealing with Imbalanced Data → Applied SMOTE (Synthetic Minority Over-sampling Technique) to balance classes.\n",
        "\n",
        "4.2 Exploratory Data Analysis (EDA)\n",
        "Fraud transactions are typically of lower amounts but occur at unusual frequencies.\n",
        "Certain customer behaviors show strong correlations with fraud.\n",
        "\n",
        "4.3 Model Selection & Training\n",
        "We experimented with multiple models:\n",
        "\n",
        "Logistic Regression (Baseline Model)\n",
        "Decision Tree (Basic Rule-Based Model)\n",
        "Random Forest (Ensemble Model for better accuracy)\n",
        "XGBoost (Best performer with optimized recall & precision)\n",
        "Best Performing Model: XGBoost with Recall = 97.8% and Precision = 99.1%\n",
        "\n",
        "4.4 Model Evaluation\n",
        "We used the following evaluation metrics:\n",
        "✔ Precision & Recall → To reduce false positives & false negatives\n",
        "✔ F1-Score → To balance fraud detection accuracy\n",
        "✔ ROC-AUC Curve → To compare models' fraud detection capabilities\n",
        "\n",
        "5. Results & Insights\n",
        "XGBoost outperformed other models with high accuracy & minimal false negatives.\n",
        "Feature Importance: Transaction amount, frequency, and payment behavior were the most predictive indicators of fraud.\n",
        "SMOTE helped improve fraud detection without overfitting.\n",
        "\n",
        "📈 Final Model Performance:\n",
        "Accuracy: 99.2%\n",
        "Precision: 99.1%\n",
        "Recall: 97.8%\n",
        "\n",
        "6. Deployment & Real-World Integration\n",
        "To make this model usable for businesses, we:\n",
        "Saved the trained model using Pickle (.pkl) for fast deployment\n",
        "Built a Flask API for real-time fraud detection\n",
        "Created a simple Web App where users can input transaction details\n",
        "\n",
        "7. Conclusion & Future Enhancements\n",
        "This fraud detection system can significantly reduce financial losses by catching fraudulent transactions in real time. Future improvements include:\n",
        "Using Deep Learning (LSTMs) for sequential transaction analysis\n",
        "Integrating AI-powered anomaly detection for evolving fraud patterns\n",
        "Deploying a cloud-based fraud detection API for scalability"
      ],
      "metadata": {
        "id": "1EQH2U_6vcpf"
      }
    }
  ]
}